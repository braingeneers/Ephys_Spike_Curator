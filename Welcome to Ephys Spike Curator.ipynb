{
 "cells": [
  {
   "cell_type": "markdown",
   "id": "c0d16716",
   "metadata": {
    "cell_style": "center"
   },
   "source": [
    "<div class=\"row\">\n",
    "    <div class=\"col-xs-1\">\n",
    "        <img src=\"spike.png\" style=\"width: 75px;float:left;\">\n",
    "    </div>\n",
    "    <div class=\"col-xs-10\">\n",
    "        <font color=\"magenta\" size=7><i>Ephys Spike Curator</i></font>\n",
    "        <p><i>The <font color=\"blue\">WetAI</font> community collectively curates data from public electrophysiology experiments</i> </p>\n",
    "        <p><font size=6 color=\"orchid\" face='Brush Script MT' > to Start, Click - <button class=\"btn btn-sm btn-success\" ><i class=\"fa fa-lg fa-id-card-o\"></i></button></font></p>\n",
    "    </div>\n",
    "</div>"
   ]
  },
  {
   "cell_type": "markdown",
   "id": "b5e69659",
   "metadata": {},
   "source": [
    "This app improves spike sorting code by letting researchers take part in the curation and assembly of electrophysiology data. The goal is to create a public repository of user-validated neural spikes which can be used to train and test future learning algorithms. Public electrophysiology data is collected on WetAI and then processed with AI algorithms to find possible neural spikes. The algorithm is sometimes incorrect, so we ask WetAI contributors to rate selected spikes. Use the <font color=\"blue\">Spike Rate App</font> to rate spikes, then upload your work to the cloud with <font color=\"sky Blue\">Save Results.</font>"
   ]
  },
  {
   "cell_type": "code",
   "execution_count": null,
   "id": "e6369b63",
   "metadata": {},
   "outputs": [],
   "source": [
    "# Load in important files and python packages\n",
    "my_files=!ls\n",
    "if not \"musclebeachtools_hlab\" in my_files:\n",
    "    !git clone https://github.com/hengenlab/musclebeachtools_hlab.git\n",
    "from IPython.core.display import display, HTML\n",
    "import numpy as numpy\n",
    "from braingeneers.datasets_neuron import NeuralAid"
   ]
  },
  {
   "cell_type": "markdown",
   "id": "pediatric-wallet",
   "metadata": {
    "cell_style": "center"
   },
   "source": [
    "# <font color=\"blue\">Spike Rater App"
   ]
  },
  {
   "cell_type": "markdown",
   "id": "8a517a3f",
   "metadata": {
    "cell_style": "split"
   },
   "source": [
    "This toolkit will guide you through the process of rating data. Select an experiment and the well from it for which you want to curate data. Then rate the quality of each selected neural spike."
   ]
  },
  {
   "cell_type": "code",
   "execution_count": null,
   "id": "colored-editing",
   "metadata": {
    "cell_style": "center"
   },
   "outputs": [],
   "source": [
    "# Launch the app\n",
    "print(\"Loading App...\")\n",
    "na = NeuralAid()\n",
    "na.set_data_path('./data/')\n",
    "display(HTML(\"&nbsp;&nbsp;<h3 class='text-info'>Select an Experiment</h3>&nbsp;\"))\n",
    "na.choose_experiment()\n",
    "exp = '2020-07-06-e-MGK-76-2614-PreDrug/'\n",
    "na.set_exp(exp)"
   ]
  },
  {
   "cell_type": "code",
   "execution_count": null,
   "id": "7e4f30df",
   "metadata": {
    "cell_style": "center"
   },
   "outputs": [],
   "source": [
    "# Helper functions turn widgets into an app\n",
    "def launch_choose_well(b):\n",
    "    display(HTML(\"&nbsp;&nbsp;<h3 class='text-info'>Choose a Well</h3><p>Select the well which you want to curate data from.</p>&nbsp;&nbsp;\"))\n",
    "    na.choose_well()\n",
    "    na.load_well_btn.on_click(launch_rater)\n",
    "na.load_exp_btn.on_click(launch_choose_well)\n",
    "\n",
    "def launch_rater(b):\n",
    "    display(HTML(\"&nbsp;&nbsp;<h3 class='text-info'>Curate Neurons</h3><p>Use the graphs to rate each neuron, where 4 is high quality and 1 is low quality.</p>&nbsp;&nbsp;\"))\n",
    "    na.gen_rate_neuron()"
   ]
  },
  {
   "cell_type": "markdown",
   "id": "damaged-meditation",
   "metadata": {
    "cell_style": "center"
   },
   "source": [
    "# <font color=\"SkyBlue\">Save Results"
   ]
  },
  {
   "cell_type": "markdown",
   "id": "8ad19cef",
   "metadata": {
    "cell_style": "split"
   },
   "source": [
    "When you are finished with the app above, use this tool to save your results. You can upload your results to the cloud for everyone to use."
   ]
  },
  {
   "cell_type": "code",
   "execution_count": null,
   "id": "golden-sponsorship",
   "metadata": {
    "cell_style": "center"
   },
   "outputs": [],
   "source": [
    "na.gen_save_b()"
   ]
  }
 ],
 "metadata": {
  "hide_input": false,
  "kernelspec": {
   "display_name": "Python 3",
   "language": "python",
   "name": "python3"
  },
  "language_info": {
   "codemirror_mode": {
    "name": "ipython",
    "version": 3
   },
   "file_extension": ".py",
   "mimetype": "text/x-python",
   "name": "python",
   "nbconvert_exporter": "python",
   "pygments_lexer": "ipython3",
   "version": "3.8.8"
  },
  "toc": {
   "base_numbering": 1,
   "nav_menu": {},
   "number_sections": true,
   "sideBar": true,
   "skip_h1_title": false,
   "title_cell": "Table of Contents",
   "title_sidebar": "Contents",
   "toc_cell": false,
   "toc_position": {},
   "toc_section_display": true,
   "toc_window_display": false
  },
  "varInspector": {
   "cols": {
    "lenName": 16,
    "lenType": 16,
    "lenVar": 40
   },
   "kernels_config": {
    "python": {
     "delete_cmd_postfix": "",
     "delete_cmd_prefix": "del ",
     "library": "var_list.py",
     "varRefreshCmd": "print(var_dic_list())"
    },
    "r": {
     "delete_cmd_postfix": ") ",
     "delete_cmd_prefix": "rm(",
     "library": "var_list.r",
     "varRefreshCmd": "cat(var_dic_list()) "
    }
   },
   "types_to_exclude": [
    "module",
    "function",
    "builtin_function_or_method",
    "instance",
    "_Feature"
   ],
   "window_display": false
  }
 },
 "nbformat": 4,
 "nbformat_minor": 5
}
